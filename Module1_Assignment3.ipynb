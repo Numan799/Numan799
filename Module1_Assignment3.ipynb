{
  "nbformat": 4,
  "nbformat_minor": 0,
  "metadata": {
    "colab": {
      "provenance": [],
      "authorship_tag": "ABX9TyP2b3NZOxp9kB0GqPpFLBKz",
      "include_colab_link": true
    },
    "kernelspec": {
      "name": "python3",
      "display_name": "Python 3"
    },
    "language_info": {
      "name": "python"
    }
  },
  "cells": [
    {
      "cell_type": "markdown",
      "metadata": {
        "id": "view-in-github",
        "colab_type": "text"
      },
      "source": [
        "<a href=\"https://colab.research.google.com/github/Numan799/Numan799/blob/main/Module1_Assignment3.ipynb\" target=\"_parent\"><img src=\"https://colab.research.google.com/assets/colab-badge.svg\" alt=\"Open In Colab\"/></a>"
      ]
    },
    {
      "cell_type": "code",
      "execution_count": null,
      "metadata": {
        "colab": {
          "base_uri": "https://localhost:8080/"
        },
        "id": "JU4IWu2TAqkM",
        "outputId": "12c73260-72ea-4e30-9457-cbc70bc59c89"
      },
      "outputs": [
        {
          "output_type": "stream",
          "name": "stdout",
          "text": [
            "Enter no of calls 300\n",
            "330.0\n"
          ]
        }
      ],
      "source": [
        "#Asssignment 3\n",
        "num_calls=int(input(\"Enter no of calls \"))\n",
        "bill=0\n",
        "if num_calls<=100:\n",
        "    bill=200\n",
        "elif num_calls<=150:\n",
        "    bill=200+(num_calls-100)*0.60\n",
        "elif num_calls<=200:\n",
        "    bill=200+50*0.60+(num_calls-150)*0.50\n",
        "else:\n",
        "    bill=200+50*0.60+50*0.50+(num_calls-150)*0.50\n",
        "print(bill)"
      ]
    }
  ]
}