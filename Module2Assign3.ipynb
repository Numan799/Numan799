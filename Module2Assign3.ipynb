{
  "nbformat": 4,
  "nbformat_minor": 0,
  "metadata": {
    "colab": {
      "provenance": [],
      "authorship_tag": "ABX9TyPGx3WGEauBG+XTMJBE98uU",
      "include_colab_link": true
    },
    "kernelspec": {
      "name": "python3",
      "display_name": "Python 3"
    },
    "language_info": {
      "name": "python"
    }
  },
  "cells": [
    {
      "cell_type": "markdown",
      "metadata": {
        "id": "view-in-github",
        "colab_type": "text"
      },
      "source": [
        "<a href=\"https://colab.research.google.com/github/Numan799/Numan799/blob/main/Module2Assign3.ipynb\" target=\"_parent\"><img src=\"https://colab.research.google.com/assets/colab-badge.svg\" alt=\"Open In Colab\"/></a>"
      ]
    },
    {
      "cell_type": "code",
      "execution_count": null,
      "metadata": {
        "colab": {
          "base_uri": "https://localhost:8080/"
        },
        "id": "ce2cCSv317ow",
        "outputId": "c114af42-1770-45ef-c15c-5565c187209c"
      },
      "outputs": [
        {
          "output_type": "stream",
          "name": "stdout",
          "text": [
            "[[1, 2], [3, 5], [1, 2, 1]]\n"
          ]
        }
      ],
      "source": [
        "#Solution for question 1\n",
        "numbers_nested=[[1,-1,2],[0,-5,3,5,-2],[1,2,1,0,-2,-3]]\n",
        "positive_numbers=[]\n",
        "for ele in numbers_nested:\n",
        "  positive_numbers.append([num for num in ele if num>0])\n",
        "print(positive_numbers)\n",
        "      "
      ]
    },
    {
      "cell_type": "code",
      "source": [
        "#Solution for question 2\n",
        "L = [[1,2,3],[ 4,5,6,3 ],[-1,-2,-10,5,8]]\n",
        "average_from_each_list=[]\n",
        "total_sum=0\n",
        "for e in L:\n",
        "  average=sum(e)/len(e)\n",
        "  average_from_each_list.append(average)\n",
        "  total_sum+=average\n",
        "print(average_from_each_list)\n",
        "print(total_sum)"
      ],
      "metadata": {
        "colab": {
          "base_uri": "https://localhost:8080/"
        },
        "id": "GvKPyeDL56lb",
        "outputId": "637f5b5a-fc5b-4c8f-add7-045ec110f6c1"
      },
      "execution_count": null,
      "outputs": [
        {
          "output_type": "stream",
          "name": "stdout",
          "text": [
            "[2.0, 4.5, 0.0]\n",
            "6.5\n"
          ]
        }
      ]
    }
  ]
}