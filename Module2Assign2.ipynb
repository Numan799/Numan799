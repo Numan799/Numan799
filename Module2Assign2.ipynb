{
  "nbformat": 4,
  "nbformat_minor": 0,
  "metadata": {
    "colab": {
      "provenance": [],
      "authorship_tag": "ABX9TyPc5DLTAhInZXDVNYdW6R3S",
      "include_colab_link": true
    },
    "kernelspec": {
      "name": "python3",
      "display_name": "Python 3"
    },
    "language_info": {
      "name": "python"
    }
  },
  "cells": [
    {
      "cell_type": "markdown",
      "metadata": {
        "id": "view-in-github",
        "colab_type": "text"
      },
      "source": [
        "<a href=\"https://colab.research.google.com/github/Numan799/Numan799/blob/main/Module2Assign2.ipynb\" target=\"_parent\"><img src=\"https://colab.research.google.com/assets/colab-badge.svg\" alt=\"Open In Colab\"/></a>"
      ]
    },
    {
      "cell_type": "code",
      "execution_count": 2,
      "metadata": {
        "colab": {
          "base_uri": "https://localhost:8080/"
        },
        "id": "GjNTKw-1KgFG",
        "outputId": "9929d445-a530-4b39-c25c-492469cf5278"
      },
      "outputs": [
        {
          "output_type": "stream",
          "name": "stdout",
          "text": [
            "[1, 2, 3, 4, 5]\n"
          ]
        }
      ],
      "source": [
        "#Solution for question 1\n",
        "L=[1,1,1,1,2,2,3,3,3,3,4,5]\n",
        "unique_elements=[]\n",
        "for element in L:\n",
        "  if element not in unique_elements:\n",
        "    unique_elements.append(element)\n",
        "print(unique_elements)"
      ]
    },
    {
      "cell_type": "code",
      "source": [
        "#Solution for question 2\n",
        "L=[1,2,3,4,[4,3]]\n",
        "number=int(input(\"enter search number\"))\n",
        "for element in L:\n",
        "  if isinstance(element,list):\n",
        "    if number in element:\n",
        "      print(\"Number exists in inner list\")\n",
        "      break\n",
        "  else:\n",
        "    continue\n",
        "else:\n",
        "  print(f\"Number {number} doesnt exist in inner list\")"
      ],
      "metadata": {
        "colab": {
          "base_uri": "https://localhost:8080/"
        },
        "id": "M6v9SLZSOLeC",
        "outputId": "3122fd34-a92c-499a-fb75-543a7cfe9ce9"
      },
      "execution_count": 11,
      "outputs": [
        {
          "output_type": "stream",
          "name": "stdout",
          "text": [
            "enter search number8\n",
            "Number 8 doesnt exist in inner list\n"
          ]
        }
      ]
    }
  ]
}