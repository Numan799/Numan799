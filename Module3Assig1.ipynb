{
  "nbformat": 4,
  "nbformat_minor": 0,
  "metadata": {
    "colab": {
      "provenance": [],
      "authorship_tag": "ABX9TyMazsykRYwMpJBN4VqydGj1",
      "include_colab_link": true
    },
    "kernelspec": {
      "name": "python3",
      "display_name": "Python 3"
    },
    "language_info": {
      "name": "python"
    }
  },
  "cells": [
    {
      "cell_type": "markdown",
      "metadata": {
        "id": "view-in-github",
        "colab_type": "text"
      },
      "source": [
        "<a href=\"https://colab.research.google.com/github/Numan799/Numan799/blob/main/Module3Assig1.ipynb\" target=\"_parent\"><img src=\"https://colab.research.google.com/assets/colab-badge.svg\" alt=\"Open In Colab\"/></a>"
      ]
    },
    {
      "cell_type": "code",
      "execution_count": 16,
      "metadata": {
        "id": "vQtBacLuKy8W"
      },
      "outputs": [],
      "source": [
        "#Module3 Assignment1\n",
        "def sum_list(numbers):\n",
        "  total=sum(numbers)\n",
        "  return total"
      ]
    },
    {
      "cell_type": "code",
      "source": [
        "sample_list=[8,2,3,0,7]\n",
        "result=sum_list(sample_list)\n",
        "print(result)"
      ],
      "metadata": {
        "colab": {
          "base_uri": "https://localhost:8080/"
        },
        "id": "MrcHPiM5Q-F1",
        "outputId": "06303637-8a83-47d3-d5cd-cb700d8f34cb"
      },
      "execution_count": 17,
      "outputs": [
        {
          "output_type": "stream",
          "name": "stdout",
          "text": [
            "20\n"
          ]
        }
      ]
    },
    {
      "cell_type": "code",
      "source": [],
      "metadata": {
        "id": "gh7vkdngQ61X"
      },
      "execution_count": null,
      "outputs": []
    }
  ]
}