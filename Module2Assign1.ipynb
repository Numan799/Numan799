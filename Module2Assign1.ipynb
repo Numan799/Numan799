{
  "nbformat": 4,
  "nbformat_minor": 0,
  "metadata": {
    "colab": {
      "provenance": [],
      "authorship_tag": "ABX9TyNxg6WPKonkbZzbNL0wdwfH",
      "include_colab_link": true
    },
    "kernelspec": {
      "name": "python3",
      "display_name": "Python 3"
    },
    "language_info": {
      "name": "python"
    }
  },
  "cells": [
    {
      "cell_type": "markdown",
      "metadata": {
        "id": "view-in-github",
        "colab_type": "text"
      },
      "source": [
        "<a href=\"https://colab.research.google.com/github/Numan799/Numan799/blob/main/Module2Assign1.ipynb\" target=\"_parent\"><img src=\"https://colab.research.google.com/assets/colab-badge.svg\" alt=\"Open In Colab\"/></a>"
      ]
    },
    {
      "cell_type": "code",
      "execution_count": null,
      "metadata": {
        "colab": {
          "base_uri": "https://localhost:8080/"
        },
        "id": "lAz9ZIlU76ga",
        "outputId": "709452c2-a965-4573-d4d4-85ade4d25b2e"
      },
      "outputs": [
        {
          "output_type": "stream",
          "name": "stdout",
          "text": [
            "['phone.jpg', 'view.jpg', 'bear.jpg']\n"
          ]
        }
      ],
      "source": [
        "#Solution 1\n",
        "filename=['view.jpg','bear.jpg','ball.png']\n",
        "filename.insert(0,'phone.jpg')\n",
        "filename.remove('ball.png')\n",
        "print(filename)"
      ]
    },
    {
      "cell_type": "code",
      "source": [
        "#Solution 2\n",
        "L=[1,2,3,4,5,6,7,8,9,10]\n",
        "maximum=L[0]\n",
        "minimum=L[0]\n",
        "total=0\n",
        "count=0\n",
        "for i in L:\n",
        "  if i>maximum:\n",
        "    maximum=i\n",
        "  if i<minimum:\n",
        "    minimum=i\n",
        "for num in L:\n",
        "  total +=num\n",
        "  count +=1\n",
        "average=total/count\n",
        "print(maximum)\n",
        "print(minimum)\n",
        "print(average)"
      ],
      "metadata": {
        "colab": {
          "base_uri": "https://localhost:8080/"
        },
        "id": "yOVGmAyi87wm",
        "outputId": "e90c23f4-b2eb-44f1-cce7-9e8084dc0cca"
      },
      "execution_count": null,
      "outputs": [
        {
          "output_type": "stream",
          "name": "stdout",
          "text": [
            "10\n",
            "1\n",
            "5.5\n"
          ]
        }
      ]
    }
  ]
}