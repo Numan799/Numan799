{
  "nbformat": 4,
  "nbformat_minor": 0,
  "metadata": {
    "colab": {
      "provenance": [],
      "authorship_tag": "ABX9TyMZ3lcoc9QHvYmmxP/RaXkj",
      "include_colab_link": true
    },
    "kernelspec": {
      "name": "python3",
      "display_name": "Python 3"
    },
    "language_info": {
      "name": "python"
    }
  },
  "cells": [
    {
      "cell_type": "markdown",
      "metadata": {
        "id": "view-in-github",
        "colab_type": "text"
      },
      "source": [
        "<a href=\"https://colab.research.google.com/github/Numan799/Numan799/blob/main/Module3Assign3.ipynb\" target=\"_parent\"><img src=\"https://colab.research.google.com/assets/colab-badge.svg\" alt=\"Open In Colab\"/></a>"
      ]
    },
    {
      "cell_type": "code",
      "execution_count": 3,
      "metadata": {
        "id": "zU3W50TMSHAM"
      },
      "outputs": [],
      "source": [
        "def count_upper_lower(string):\n",
        "  upper_count=0\n",
        "  lower_count=0\n",
        "  \n",
        "  for char in string:\n",
        "    if char.isupper():\n",
        "      upper_count +=1\n",
        "    elif char.islower():\n",
        "      lower_count +=1\n",
        "  return upper_count,lower_count"
      ]
    },
    {
      "cell_type": "code",
      "source": [
        "text=input(\"Enter string to check:: \")\n",
        "upper,lower=count_upper_lower(text)\n",
        "print(\"Uppercase count::\",upper)\n",
        "print(\"lowercase count::\",lower)"
      ],
      "metadata": {
        "colab": {
          "base_uri": "https://localhost:8080/"
        },
        "id": "FPK--XZ6S99G",
        "outputId": "89acd29f-2daf-4c51-88b2-ad181290318b"
      },
      "execution_count": 7,
      "outputs": [
        {
          "output_type": "stream",
          "name": "stdout",
          "text": [
            "Enter string to check:: \n",
            "Uppercase count:: 0\n",
            "lowercase count:: 0\n"
          ]
        }
      ]
    }
  ]
}